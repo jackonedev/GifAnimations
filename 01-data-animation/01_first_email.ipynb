{
 "cells": [
  {
   "cell_type": "code",
   "execution_count": 1,
   "metadata": {},
   "outputs": [
    {
     "data": {
      "text/html": [
       "<div>\n",
       "<style scoped>\n",
       "    .dataframe tbody tr th:only-of-type {\n",
       "        vertical-align: middle;\n",
       "    }\n",
       "\n",
       "    .dataframe tbody tr th {\n",
       "        vertical-align: top;\n",
       "    }\n",
       "\n",
       "    .dataframe thead th {\n",
       "        text-align: right;\n",
       "    }\n",
       "</style>\n",
       "<table border=\"1\" class=\"dataframe\">\n",
       "  <thead>\n",
       "    <tr style=\"text-align: right;\">\n",
       "      <th></th>\n",
       "      <th>Time</th>\n",
       "      <th>Fp2</th>\n",
       "      <th>C3</th>\n",
       "    </tr>\n",
       "  </thead>\n",
       "  <tbody>\n",
       "    <tr>\n",
       "      <th>0</th>\n",
       "      <td>1.000000</td>\n",
       "      <td>8948.864258</td>\n",
       "      <td>42.608395</td>\n",
       "    </tr>\n",
       "    <tr>\n",
       "      <th>1</th>\n",
       "      <td>1.016667</td>\n",
       "      <td>8948.469727</td>\n",
       "      <td>42.608349</td>\n",
       "    </tr>\n",
       "    <tr>\n",
       "      <th>2</th>\n",
       "      <td>1.033333</td>\n",
       "      <td>8946.292969</td>\n",
       "      <td>42.608303</td>\n",
       "    </tr>\n",
       "    <tr>\n",
       "      <th>3</th>\n",
       "      <td>1.050000</td>\n",
       "      <td>8944.116211</td>\n",
       "      <td>42.608257</td>\n",
       "    </tr>\n",
       "    <tr>\n",
       "      <th>4</th>\n",
       "      <td>1.066667</td>\n",
       "      <td>8941.939453</td>\n",
       "      <td>42.608208</td>\n",
       "    </tr>\n",
       "    <tr>\n",
       "      <th>...</th>\n",
       "      <td>...</td>\n",
       "      <td>...</td>\n",
       "      <td>...</td>\n",
       "    </tr>\n",
       "    <tr>\n",
       "      <th>282</th>\n",
       "      <td>5.700000</td>\n",
       "      <td>8959.234375</td>\n",
       "      <td>42.595455</td>\n",
       "    </tr>\n",
       "    <tr>\n",
       "      <th>283</th>\n",
       "      <td>5.716667</td>\n",
       "      <td>8958.985352</td>\n",
       "      <td>42.595409</td>\n",
       "    </tr>\n",
       "    <tr>\n",
       "      <th>284</th>\n",
       "      <td>5.733333</td>\n",
       "      <td>8958.735352</td>\n",
       "      <td>42.595364</td>\n",
       "    </tr>\n",
       "    <tr>\n",
       "      <th>285</th>\n",
       "      <td>5.750000</td>\n",
       "      <td>8958.486328</td>\n",
       "      <td>42.595318</td>\n",
       "    </tr>\n",
       "    <tr>\n",
       "      <th>286</th>\n",
       "      <td>5.766667</td>\n",
       "      <td>8958.237305</td>\n",
       "      <td>42.595272</td>\n",
       "    </tr>\n",
       "  </tbody>\n",
       "</table>\n",
       "<p>287 rows × 3 columns</p>\n",
       "</div>"
      ],
      "text/plain": [
       "         Time          Fp2         C3\n",
       "0    1.000000  8948.864258  42.608395\n",
       "1    1.016667  8948.469727  42.608349\n",
       "2    1.033333  8946.292969  42.608303\n",
       "3    1.050000  8944.116211  42.608257\n",
       "4    1.066667  8941.939453  42.608208\n",
       "..        ...          ...        ...\n",
       "282  5.700000  8959.234375  42.595455\n",
       "283  5.716667  8958.985352  42.595409\n",
       "284  5.733333  8958.735352  42.595364\n",
       "285  5.750000  8958.486328  42.595318\n",
       "286  5.766667  8958.237305  42.595272\n",
       "\n",
       "[287 rows x 3 columns]"
      ]
     },
     "execution_count": 1,
     "metadata": {},
     "output_type": "execute_result"
    }
   ],
   "source": [
    "import numpy as np\n",
    "import pandas as pd\n",
    "import matplotlib.pyplot as plt\n",
    "from collections import deque\n",
    "\n",
    "# load data --> eeg.shape = (224930, 63)\n",
    "eeg = pd.read_csv('../data/eeg.csv')\n",
    "eeg"
   ]
  },
  {
   "cell_type": "code",
   "execution_count": 2,
   "metadata": {},
   "outputs": [],
   "source": [
    "# Threshold's\n",
    "sfreq = 0.01 # sampling frequency\n",
    "visible = 10 # time shown in plot (in samples) --> 4 seconds #desfazaje derecho por la condicion del while (no se consideran las primeras 10 filas)\n",
    "\n",
    "# define channels to plot\n",
    "ch1 = 'Fp2'\n",
    "ch2 = 'C3'\n",
    "\n",
    "# initialize deques\n",
    "dy1_pressure = deque(np.zeros(visible), visible)\n",
    "dy2_flow_rate = deque(np.zeros(visible), visible)\n",
    "dx = deque(np.zeros(visible), visible)\n",
    "\n",
    "# get interval of entire time frame\n",
    "interval = np.linspace(0, eeg.shape[0], num=eeg.shape[0])#TODO: solo apto para el ejemplo en cuestión\n",
    "interval /= sfreq # from samples to seconds"
   ]
  },
  {
   "cell_type": "code",
   "execution_count": 3,
   "metadata": {},
   "outputs": [
    {
     "data": {
      "text/plain": [
       "array([    0.        ,   100.34965035,   200.6993007 ,   301.04895105,\n",
       "         401.3986014 ,   501.74825175,   602.0979021 ,   702.44755245,\n",
       "         802.7972028 ,   903.14685315,  1003.4965035 ,  1103.84615385,\n",
       "        1204.1958042 ,  1304.54545455,  1404.8951049 ,  1505.24475524,\n",
       "        1605.59440559,  1705.94405594,  1806.29370629,  1906.64335664,\n",
       "        2006.99300699,  2107.34265734,  2207.69230769,  2308.04195804,\n",
       "        2408.39160839,  2508.74125874,  2609.09090909,  2709.44055944,\n",
       "        2809.79020979,  2910.13986014,  3010.48951049,  3110.83916084,\n",
       "        3211.18881119,  3311.53846154,  3411.88811189,  3512.23776224,\n",
       "        3612.58741259,  3712.93706294,  3813.28671329,  3913.63636364,\n",
       "        4013.98601399,  4114.33566434,  4214.68531469,  4315.03496503,\n",
       "        4415.38461538,  4515.73426573,  4616.08391608,  4716.43356643,\n",
       "        4816.78321678,  4917.13286713,  5017.48251748,  5117.83216783,\n",
       "        5218.18181818,  5318.53146853,  5418.88111888,  5519.23076923,\n",
       "        5619.58041958,  5719.93006993,  5820.27972028,  5920.62937063,\n",
       "        6020.97902098,  6121.32867133,  6221.67832168,  6322.02797203,\n",
       "        6422.37762238,  6522.72727273,  6623.07692308,  6723.42657343,\n",
       "        6823.77622378,  6924.12587413,  7024.47552448,  7124.82517483,\n",
       "        7225.17482517,  7325.52447552,  7425.87412587,  7526.22377622,\n",
       "        7626.57342657,  7726.92307692,  7827.27272727,  7927.62237762,\n",
       "        8027.97202797,  8128.32167832,  8228.67132867,  8329.02097902,\n",
       "        8429.37062937,  8529.72027972,  8630.06993007,  8730.41958042,\n",
       "        8830.76923077,  8931.11888112,  9031.46853147,  9131.81818182,\n",
       "        9232.16783217,  9332.51748252,  9432.86713287,  9533.21678322,\n",
       "        9633.56643357,  9733.91608392,  9834.26573427,  9934.61538462,\n",
       "       10034.96503497, 10135.31468531, 10235.66433566, 10336.01398601,\n",
       "       10436.36363636, 10536.71328671, 10637.06293706, 10737.41258741,\n",
       "       10837.76223776, 10938.11188811, 11038.46153846, 11138.81118881,\n",
       "       11239.16083916, 11339.51048951, 11439.86013986, 11540.20979021,\n",
       "       11640.55944056, 11740.90909091, 11841.25874126, 11941.60839161,\n",
       "       12041.95804196, 12142.30769231, 12242.65734266, 12343.00699301,\n",
       "       12443.35664336, 12543.70629371, 12644.05594406, 12744.40559441,\n",
       "       12844.75524476, 12945.1048951 , 13045.45454545, 13145.8041958 ,\n",
       "       13246.15384615, 13346.5034965 , 13446.85314685, 13547.2027972 ,\n",
       "       13647.55244755, 13747.9020979 , 13848.25174825, 13948.6013986 ,\n",
       "       14048.95104895, 14149.3006993 , 14249.65034965, 14350.        ,\n",
       "       14450.34965035, 14550.6993007 , 14651.04895105, 14751.3986014 ,\n",
       "       14851.74825175, 14952.0979021 , 15052.44755245, 15152.7972028 ,\n",
       "       15253.14685315, 15353.4965035 , 15453.84615385, 15554.1958042 ,\n",
       "       15654.54545455, 15754.8951049 , 15855.24475524, 15955.59440559,\n",
       "       16055.94405594, 16156.29370629, 16256.64335664, 16356.99300699,\n",
       "       16457.34265734, 16557.69230769, 16658.04195804, 16758.39160839,\n",
       "       16858.74125874, 16959.09090909, 17059.44055944, 17159.79020979,\n",
       "       17260.13986014, 17360.48951049, 17460.83916084, 17561.18881119,\n",
       "       17661.53846154, 17761.88811189, 17862.23776224, 17962.58741259,\n",
       "       18062.93706294, 18163.28671329, 18263.63636364, 18363.98601399,\n",
       "       18464.33566434, 18564.68531469, 18665.03496503, 18765.38461538,\n",
       "       18865.73426573, 18966.08391608, 19066.43356643, 19166.78321678,\n",
       "       19267.13286713, 19367.48251748, 19467.83216783, 19568.18181818,\n",
       "       19668.53146853, 19768.88111888, 19869.23076923, 19969.58041958,\n",
       "       20069.93006993, 20170.27972028, 20270.62937063, 20370.97902098,\n",
       "       20471.32867133, 20571.67832168, 20672.02797203, 20772.37762238,\n",
       "       20872.72727273, 20973.07692308, 21073.42657343, 21173.77622378,\n",
       "       21274.12587413, 21374.47552448, 21474.82517483, 21575.17482517,\n",
       "       21675.52447552, 21775.87412587, 21876.22377622, 21976.57342657,\n",
       "       22076.92307692, 22177.27272727, 22277.62237762, 22377.97202797,\n",
       "       22478.32167832, 22578.67132867, 22679.02097902, 22779.37062937,\n",
       "       22879.72027972, 22980.06993007, 23080.41958042, 23180.76923077,\n",
       "       23281.11888112, 23381.46853147, 23481.81818182, 23582.16783217,\n",
       "       23682.51748252, 23782.86713287, 23883.21678322, 23983.56643357,\n",
       "       24083.91608392, 24184.26573427, 24284.61538462, 24384.96503497,\n",
       "       24485.31468531, 24585.66433566, 24686.01398601, 24786.36363636,\n",
       "       24886.71328671, 24987.06293706, 25087.41258741, 25187.76223776,\n",
       "       25288.11188811, 25388.46153846, 25488.81118881, 25589.16083916,\n",
       "       25689.51048951, 25789.86013986, 25890.20979021, 25990.55944056,\n",
       "       26090.90909091, 26191.25874126, 26291.60839161, 26391.95804196,\n",
       "       26492.30769231, 26592.65734266, 26693.00699301, 26793.35664336,\n",
       "       26893.70629371, 26994.05594406, 27094.40559441, 27194.75524476,\n",
       "       27295.1048951 , 27395.45454545, 27495.8041958 , 27596.15384615,\n",
       "       27696.5034965 , 27796.85314685, 27897.2027972 , 27997.55244755,\n",
       "       28097.9020979 , 28198.25174825, 28298.6013986 , 28398.95104895,\n",
       "       28499.3006993 , 28599.65034965, 28700.        ])"
      ]
     },
     "execution_count": 3,
     "metadata": {},
     "output_type": "execute_result"
    }
   ],
   "source": [
    "# El intervalo está definido en función de la cantidad de filas de eeg y del umbral \"sfreq\"\n",
    "\n",
    "np.linspace(eeg.iloc[0,0], eeg.iloc[-1,0], num=eeg.shape[0]) # Intervalos equidistantes de tiempo dentro del lapso establecido\n",
    "interval"
   ]
  },
  {
   "cell_type": "code",
   "execution_count": 4,
   "metadata": {},
   "outputs": [
    {
     "data": {
      "text/plain": [
       "478.3333333333333"
      ]
     },
     "execution_count": 4,
     "metadata": {},
     "output_type": "execute_result"
    }
   ],
   "source": [
    "28700/60 # 478 minutos?"
   ]
  },
  {
   "cell_type": "code",
   "execution_count": 5,
   "metadata": {},
   "outputs": [
    {
     "name": "stdout",
     "output_type": "stream",
     "text": [
      "deque([0.0, 0.0, 0.0, 0.0, 0.0, 0.0, 0.0, 0.0, 0.0, 0.0], maxlen=10)\n",
      "deque([0.0, 0.0, 0.0, 0.0, 0.0, 0.0, 0.0, 0.0, 0.0, 0.0], maxlen=10)\n",
      "deque([0.0, 0.0, 0.0, 0.0, 0.0, 0.0, 0.0, 0.0, 0.0, 0.0], maxlen=10)\n"
     ]
    }
   ],
   "source": [
    "# Los valos valores iniciales de los deques son:\n",
    "print (dy1_pressure)\n",
    "print (dy2_flow_rate)\n",
    "print (dx)"
   ]
  },
  {
   "cell_type": "code",
   "execution_count": 6,
   "metadata": {},
   "outputs": [],
   "source": [
    "# interactive plotting\n",
    "# %matplotlib inline\n",
    "%matplotlib qt5\n",
    "plt.ion()\n",
    "\n",
    "# define figure size\n",
    "fig = plt.figure(figsize=(20,12))\n",
    "\n"
   ]
  },
  {
   "cell_type": "code",
   "execution_count": 7,
   "metadata": {},
   "outputs": [
    {
     "data": {
      "text/plain": [
       "<matplotlib.legend.Legend at 0x2625df1e650>"
      ]
     },
     "execution_count": 7,
     "metadata": {},
     "output_type": "execute_result"
    }
   ],
   "source": [
    "# define axis1, labels, and legend\n",
    "ah1 = fig.add_subplot(211)\n",
    "ah1.set_ylabel(\"Pressure [PSIg]\", fontsize=14)\n",
    "l1, = ah1.plot(dx, dy1_pressure, color='rosybrown', label=ch1)\n",
    "ah1.legend(loc=\"upper right\", fontsize=12, fancybox=True, framealpha=0.5)\n"
   ]
  },
  {
   "cell_type": "code",
   "execution_count": 8,
   "metadata": {},
   "outputs": [
    {
     "data": {
      "text/plain": [
       "<matplotlib.legend.Legend at 0x2625dfda410>"
      ]
     },
     "execution_count": 8,
     "metadata": {},
     "output_type": "execute_result"
    }
   ],
   "source": [
    "\n",
    "# define axis2, labels, and legend\n",
    "ah2 = fig.add_subplot(212)\n",
    "ah2.set_xlabel(\"Time [min]\", fontsize=14, labelpad=10)\n",
    "ah2.set_ylabel(\"Flow Rate [m3/h]\", fontsize=14)\n",
    "l2, = ah2.plot(dx, dy2_flow_rate, color='silver', label=ch2)\n",
    "ah2.legend(loc=\"upper right\", fontsize=12, fancybox=True, framealpha=0.5)\n",
    "\n"
   ]
  },
  {
   "cell_type": "code",
   "execution_count": 9,
   "metadata": {},
   "outputs": [],
   "source": [
    "# error\n",
    "# quit"
   ]
  },
  {
   "cell_type": "code",
   "execution_count": 10,
   "metadata": {},
   "outputs": [
    {
     "ename": "IndexError",
     "evalue": "index 287 is out of bounds for axis 0 with size 287",
     "output_type": "error",
     "traceback": [
      "\u001b[1;31m---------------------------------------------------------------------------\u001b[0m",
      "\u001b[1;31mIndexError\u001b[0m                                Traceback (most recent call last)",
      "Cell \u001b[1;32mIn[10], line 30\u001b[0m\n\u001b[0;32m     28\u001b[0m \u001b[39m# # set x- and y-limits based on their mean\u001b[39;00m\n\u001b[0;32m     29\u001b[0m ah1\u001b[39m.\u001b[39mset_ylim(\u001b[39m-\u001b[39m\u001b[39m1\u001b[39m\u001b[39m+\u001b[39mmdy1, \u001b[39m2\u001b[39m\u001b[39m+\u001b[39mmdy1)\n\u001b[1;32m---> 30\u001b[0m ah1\u001b[39m.\u001b[39mset_xlim(interval[start], interval[start\u001b[39m+\u001b[39;49mvisible])\n\u001b[0;32m     31\u001b[0m ah2\u001b[39m.\u001b[39mset_ylim(\u001b[39m-\u001b[39m\u001b[39m6\u001b[39m\u001b[39m+\u001b[39mmdy2, \u001b[39m2\u001b[39m\u001b[39m+\u001b[39mmdy2)\n\u001b[0;32m     32\u001b[0m ah2\u001b[39m.\u001b[39mset_xlim(interval[start], interval[start\u001b[39m+\u001b[39mvisible])\n",
      "\u001b[1;31mIndexError\u001b[0m: index 287 is out of bounds for axis 0 with size 287"
     ]
    }
   ],
   "source": [
    "start = 0\n",
    "\n",
    "# # simulate entire data\n",
    "while start+visible <= eeg.shape[0]:#ACA: start incrementa de 1 y visible el valor inicial, por eso los 10 del threshold no se visualizan, se restan de eeg.shape[0]\n",
    "    # print (f'numero de iteracion: {start+1}, start+visible: {start+visible}, eeg.shape[0]: {eeg.shape[0]}')\n",
    "    \n",
    "    dy1_pressure.extend(eeg[ch1].iloc[start:start+visible])\n",
    "    dy2_flow_rate.extend(eeg[ch2].iloc[start:start+visible])\n",
    "    dx.extend(interval[start:start+visible])\n",
    "\n",
    "\n",
    "\n",
    "    # print (dy2_flow_rate)\n",
    "\n",
    "    \n",
    "\n",
    "    # # update plot\n",
    "    l1.set_ydata(dy1_pressure)  \n",
    "    l2.set_ydata(dy2_flow_rate)\n",
    "    l1.set_xdata(dx)\n",
    "    l2.set_xdata(dx)\n",
    "\n",
    "    # # get mean of deques\n",
    "    mdy1 = np.mean(dy1_pressure)\n",
    "    mdy2 = np.mean(dy2_flow_rate)\n",
    "\n",
    "    # # set x- and y-limits based on their mean\n",
    "    ah1.set_ylim(-1+mdy1, 2+mdy1)\n",
    "    a (interval[start], interval[start+visible])\n",
    "    ah2.set_ylim(-6+mdy2, 2+mdy2)\n",
    "    ah2.set_xlim(interval[start], interval[start+visible])\n",
    "\n",
    "    # # control speed of moving time-series\n",
    "    start += 1\n",
    "\n",
    "    # fig.canvas.draw()\n",
    "    # fig.canvas.flush_events()"
   ]
  },
  {
   "cell_type": "code",
   "execution_count": null,
   "metadata": {},
   "outputs": [],
   "source": [
    "error\n",
    "\n",
    "start = 0\n",
    "\n",
    "# # simulate entire data\n",
    "while start+visible <= eeg.shape[0]:\n",
    "    # extend deques (both x and y axes)\n",
    "    dy1_pressure.extend(eeg[ch1].iloc[start:start+visible])\n",
    "    dy2_flow_rate.extend(eeg[ch2].iloc[start:start+visible])\n",
    "    dx.extend(interval[start:start+visible])\n",
    "\n",
    "    # update plot\n",
    "    l1.set_ydata(dy1_pressure)  \n",
    "    l2.set_ydata(dy2_flow_rate)\n",
    "    l1.set_xdata(dx)\n",
    "    l2.set_xdata(dx)\n",
    "\n",
    "    # get mean of deques\n",
    "    mdy1 = np.mean(dy1_pressure)\n",
    "    mdy2 = np.mean(dy2_flow_rate)\n",
    "\n",
    "    # set x- and y-limits based on their mean\n",
    "    ah1.set_ylim(-1+mdy1, 2+mdy1)\n",
    "    ah1.set_xlim(interval[start], interval[start+visible])\n",
    "    ah2.set_ylim(-6+mdy2, 2+mdy2)\n",
    "    ah2.set_xlim(interval[start], interval[start+visible])\n",
    "\n",
    "    # control speed of moving time-series\n",
    "    start += 1\n",
    "\n",
    "    fig.canvas.draw()\n",
    "    fig.canvas.flush_events()\n"
   ]
  },
  {
   "cell_type": "code",
   "execution_count": null,
   "metadata": {},
   "outputs": [],
   "source": []
  }
 ],
 "metadata": {
  "kernelspec": {
   "display_name": "venv",
   "language": "python",
   "name": "python3"
  },
  "language_info": {
   "codemirror_mode": {
    "name": "ipython",
    "version": 3
   },
   "file_extension": ".py",
   "mimetype": "text/x-python",
   "name": "python",
   "nbconvert_exporter": "python",
   "pygments_lexer": "ipython3",
   "version": "3.11.2"
  },
  "orig_nbformat": 4,
  "vscode": {
   "interpreter": {
    "hash": "cd3d783621b94ddb5444938b62e8e552e85be8e7528c303b542e258dd0541fd9"
   }
  }
 },
 "nbformat": 4,
 "nbformat_minor": 2
}
