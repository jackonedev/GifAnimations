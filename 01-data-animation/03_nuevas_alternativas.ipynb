{
 "cells": [
  {
   "attachments": {},
   "cell_type": "markdown",
   "metadata": {},
   "source": [
    "# Nuevas alternativas: \n",
    "\n",
    "<center>\n",
    "\n",
    "# Plotly!\n",
    "\n",
    "</center>"
   ]
  },
  {
   "cell_type": "code",
   "execution_count": 4,
   "metadata": {},
   "outputs": [],
   "source": [
    "import pandas as pd\n",
    "import plotly.express as px"
   ]
  },
  {
   "cell_type": "code",
   "execution_count": 10,
   "metadata": {},
   "outputs": [],
   "source": [
    "data = pd.read_csv('data/eeg.csv')\n"
   ]
  },
  {
   "attachments": {},
   "cell_type": "markdown",
   "metadata": {},
   "source": [
    "https://plotly.com/python/animations/\n",
    "\n",
    "Existen muchas funciones de \"Plotly Express\" que permiten la creacion de figuras animadas, a través de los argumentos:\n",
    "animation_frame, animation_group\n",
    "\n",
    "https://towardsdatascience.com/line-chart-animation-with-plotly-on-jupyter-e19c738dc882\n"
   ]
  },
  {
   "cell_type": "markdown",
   "metadata": {},
   "source": [
    "!['imagen_1'](https://miro.medium.com/v2/resize:fit:720/1*ImiV-XL7lD44qVta78Oa4Q.gif)"
   ]
  },
  {
   "attachments": {},
   "cell_type": "markdown",
   "metadata": {},
   "source": [
    "![imagen_2](https://miro.medium.com/v2/resize:fit:720/1*2jxMQxyghAyeloKWeC1C0g.gif)"
   ]
  },
  {
   "attachments": {},
   "cell_type": "markdown",
   "metadata": {},
   "source": [
    "<center>\n",
    "\n",
    "# DASH</center>\n",
    "\n",
    "\n",
    "https://dash.plotly.com/installation"
   ]
  },
  {
   "cell_type": "code",
   "execution_count": null,
   "metadata": {},
   "outputs": [],
   "source": []
  },
  {
   "attachments": {},
   "cell_type": "markdown",
   "metadata": {},
   "source": [
    "<center>\n",
    "\n",
    "# Streamlit</center>\n",
    "\n",
    "\n",
    "https://www.youtube.com/watch?v=VtrFjkSGgKM\n",
    "\n",
    "https://towardsdatascience.com/how-to-run-animations-in-altair-and-streamlit-2a0624789ad"
   ]
  },
  {
   "cell_type": "code",
   "execution_count": null,
   "metadata": {},
   "outputs": [],
   "source": [
    "## PROBAR ESTO POR CURIOSIDAD\n",
    "\n",
    "import streamlit as st\n",
    "import numpy as np\n",
    "import time\n",
    "\n",
    "def get_frame():\n",
    "    return np.random.randint(0, 255, size=(10,10))\n",
    "\n",
    "my_image = st.image(get_frame(), caption='Random image', width=600)\n",
    "\n",
    "while True:\n",
    "    time.sleep(0.1)\n",
    "    my_image.image(get_frame(), caption='Random image', width=600)"
   ]
  },
  {
   "attachments": {},
   "cell_type": "markdown",
   "metadata": {},
   "source": []
  }
 ],
 "metadata": {
  "kernelspec": {
   "display_name": "venv",
   "language": "python",
   "name": "python3"
  },
  "language_info": {
   "codemirror_mode": {
    "name": "ipython",
    "version": 3
   },
   "file_extension": ".py",
   "mimetype": "text/x-python",
   "name": "python",
   "nbconvert_exporter": "python",
   "pygments_lexer": "ipython3",
   "version": "3.11.2"
  },
  "orig_nbformat": 4,
  "vscode": {
   "interpreter": {
    "hash": "cd3d783621b94ddb5444938b62e8e552e85be8e7528c303b542e258dd0541fd9"
   }
  }
 },
 "nbformat": 4,
 "nbformat_minor": 2
}
