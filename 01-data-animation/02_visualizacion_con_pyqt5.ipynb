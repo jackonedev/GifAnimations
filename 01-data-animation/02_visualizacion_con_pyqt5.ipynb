{
 "cells": [
  {
   "cell_type": "raw",
   "metadata": {},
   "source": [
    "https://towardsdatascience.com/dynamic-replay-of-time-series-data-819e27212b4b\n",
    "https://towardsdatascience.com/plotting-live-data-with-matplotlib-d871fac7500b\n",
    "\n",
    "\n",
    "Documentación:\n",
    "https://www.pythonguis.com/pyqt5/\n",
    "https://www.pythonguis.com/tutorials/plotting-matplotlib/\n",
    "https://matplotlib.org/stable/api/_as_gen/matplotlib.animation.FuncAnimation.html"
   ]
  },
  {
   "cell_type": "code",
   "execution_count": 1,
   "metadata": {},
   "outputs": [],
   "source": [
    "import numpy as np\n",
    "import pandas as pd\n",
    "import matplotlib.pyplot as plt\n",
    "from collections import deque\n",
    "\n",
    "# TESTING TOOLS\n",
    "from itertools import count\n",
    "iteraciones = count(1)\n",
    "\n",
    "def main():\n",
    "    # load data --> eeg.shape = (224930, 63)\n",
    "    eeg = pd.read_csv('../data/eeg.csv')\n",
    "\n",
    "    # interactive plotting\n",
    "    %matplotlib qt5\n",
    "    plt.ion()\n",
    "\n",
    "\n",
    "\n",
    "\n",
    "    sfreq = 0.01 # sampling frequency\n",
    "    visible = 10 # time shown in plot (in samples) --> 4 seconds\n",
    "\n",
    "    # define channels to plot\n",
    "    ch1 = 'Fp2'\n",
    "    ch2 = 'C3'\n",
    "\n",
    "    # initialize deques\n",
    "    dy1 = deque(np.zeros(visible), visible)\n",
    "    dy2 = deque(np.zeros(visible), visible)\n",
    "    dx = deque(np.zeros(visible), visible)\n",
    "\n",
    "    # get interval of entire time frame #TODO: Solo se ajusta al ejemplo\n",
    "    interval = np.linspace(0, eeg.shape[0], num=eeg.shape[0])#TODO: Revisar el fichero \"first_email.ipynb\" - en el ejemplo cada point step representa un 500Hz\n",
    "    interval /= sfreq # from samples to seconds, NO ME DAN LOS NUMEROS\n",
    "\n",
    "\n",
    "\n",
    "\n",
    "\n",
    "    ## Define figure limits | dejamos estáticos los límites del eje y - entre un min y un max\n",
    "    ch1_min = eeg[ch1].min()\n",
    "    ch1_max = eeg[ch1].max()\n",
    "    ch2_min = eeg[ch2].min()\n",
    "    ch2_max = eeg[ch2].max()\n",
    "\n",
    "\n",
    "\n",
    "\n",
    "\n",
    "\n",
    "    # define figure size\n",
    "    fig = plt.figure(figsize=(20,12))\n",
    "\n",
    "    # define axis1, labels, and legend\n",
    "    ah1 = fig.add_subplot(211)\n",
    "    ah1.set_ylabel(\"Pressure [PSIg]\", fontsize=14)\n",
    "    l1, = ah1.plot(dx, dy1, color='rosybrown', label=ch1)\n",
    "    ah1.legend(loc=\"upper right\", fontsize=12, fancybox=True, framealpha=0.5)\n",
    "\n",
    "    # define axis2, labels, and legend\n",
    "    ah2 = fig.add_subplot(212)\n",
    "    ah2.set_xlabel(\"Time [min]\", fontsize=14, labelpad=10)\n",
    "    ah2.set_ylabel(\"Flow Rate [m3/h]\", fontsize=14)\n",
    "    l2, = ah2.plot(dx, dy2, color='silver', label=ch2)\n",
    "    ah2.legend(loc=\"upper right\", fontsize=12, fancybox=True, framealpha=0.5)\n",
    "    start = 0\n",
    "\n",
    "\n",
    "    # simulate entire data\n",
    "    while start+visible <= eeg.shape[0]:\n",
    "        next(iteraciones)\n",
    "        # extend deques (both x and y axes)\n",
    "        dy1.extend(eeg[ch1].iloc[start:start+visible])\n",
    "        dy2.extend(eeg[ch2].iloc[start:start+visible])\n",
    "        dx.extend(interval[start:start+visible])\n",
    "\n",
    "        # update plot\n",
    "        l1.set_ydata(dy1)  \n",
    "        l2.set_ydata(dy2)\n",
    "        l1.set_xdata(dx)\n",
    "        l2.set_xdata(dx)\n",
    "\n",
    "        # get mean of deques\n",
    "        # mdy1 = np.mean(dy1)\n",
    "        # mdy2 = np.mean(dy2)\n",
    "\n",
    "        # set x- and y-limits based on their mean\n",
    "        ah1.set_ylim(ch1_min, ch1_max)\n",
    "        ah2.set_ylim(ch2_min, ch2_max)\n",
    "        try:\n",
    "            ah1.set_xlim(interval[start], interval[start+visible])\n",
    "        except:\n",
    "            ah1.set_xlim(interval[start], interval[-1])\n",
    "        \n",
    "        try:\n",
    "            ah2.set_xlim(interval[start], interval[start+visible])\n",
    "        except:\n",
    "            ah2.set_xlim(interval[start], interval[-1])\n",
    "\n",
    "        # control speed of moving time-series\n",
    "        start += 1\n",
    "\n",
    "        fig.canvas.draw()\n",
    "        fig.canvas.flush_events()\n",
    "        \n",
    "##%%timeit --> 11.7 s ± 14.4 ms per loop (mean ± std. dev. of 7 runs, 1 loop each)   --> 287 rows"
   ]
  },
  {
   "cell_type": "code",
   "execution_count": 2,
   "metadata": {},
   "outputs": [
    {
     "name": "stdout",
     "output_type": "stream",
     "text": [
      "CPU times: total: 13.9 s\n",
      "Wall time: 16 s\n"
     ]
    }
   ],
   "source": [
    "%%time\n",
    "\n",
    "main()"
   ]
  },
  {
   "cell_type": "code",
   "execution_count": 4,
   "metadata": {},
   "outputs": [
    {
     "name": "stdout",
     "output_type": "stream",
     "text": [
      "279\n"
     ]
    }
   ],
   "source": [
    "print (iteraciones)"
   ]
  },
  {
   "cell_type": "raw",
   "metadata": {},
   "source": [
    "Explicacion de la solucion try-except:\n",
    "\n",
    "\"\"\"Line 76: ah1.set_xlim(interval[start], interval[start+visible])\"\"\"\n",
    "\n",
    "print (f'len(interval) = {len(interval)}')\n",
    "a = len(interval)-10\n",
    "\n",
    "interval[a], interval[a+9]"
   ]
  },
  {
   "cell_type": "raw",
   "metadata": {},
   "source": []
  },
  {
   "cell_type": "raw",
   "metadata": {},
   "source": []
  },
  {
   "attachments": {},
   "cell_type": "markdown",
   "metadata": {},
   "source": [
    "# Viernes 17/02 solución parte 2\n",
    "\n",
    "Estudiar documentación oficial"
   ]
  },
  {
   "cell_type": "code",
   "execution_count": 3,
   "metadata": {},
   "outputs": [
    {
     "data": {
      "image/png": "[encoded data removed]",
      "text/plain": [
       "<Figure size 640x480 with 1 Axes>"
      ]
     },
     "metadata": {},
     "output_type": "display_data"
    }
   ],
   "source": [
    "import numpy as np\n",
    "import matplotlib.pyplot as plt\n",
    "from matplotlib.animation import FuncAnimation\n",
    "\n",
    "fig, ax = plt.subplots()\n",
    "xdata, ydata = [], []\n",
    "ln, = ax.plot([], [], 'ro')\n",
    "\n",
    "def init():\n",
    "    ax.set_xlim(0, 2*np.pi)\n",
    "    ax.set_ylim(-1, 1)\n",
    "    return ln,\n",
    "\n",
    "def update(frame):\n",
    "    xdata.append(frame)\n",
    "    ydata.append(np.sin(frame))\n",
    "    ln.set_data(xdata, ydata)\n",
    "    return ln,\n",
    "\n",
    "ani = FuncAnimation(fig, update, frames=np.linspace(0, 2*np.pi, 128),\n",
    "                    init_func=init, blit=True)\n",
    "# plt.show()"
   ]
  },
  {
   "cell_type": "code",
   "execution_count": 4,
   "metadata": {},
   "outputs": [
    {
     "data": {
      "image/png": "[encoded data removed]",
      "text/plain": [
       "<Figure size 640x480 with 1 Axes>"
      ]
     },
     "metadata": {},
     "output_type": "display_data"
    }
   ],
   "source": [
    "import numpy as np\n",
    "import matplotlib.pyplot as plt\n",
    "from matplotlib.animation import FuncAnimation\n",
    "from functools import partial\n",
    "\n",
    "fig, ax = plt.subplots()\n",
    "line1, = ax.plot([], [], 'ro')\n",
    "\n",
    "def init():\n",
    "    ax.set_xlim(0, 2*np.pi)\n",
    "    ax.set_ylim(-1, 1)\n",
    "    return line1,\n",
    "\n",
    "def update(frame, ln, x, y):\n",
    "    x.append(frame)\n",
    "    y.append(np.sin(frame))\n",
    "    ln.set_data(x, y)\n",
    "    return ln,\n",
    "\n",
    "ani = FuncAnimation(\n",
    "    fig, partial(update, ln=line1, x=[], y=[]),\n",
    "    frames=np.linspace(0, 2*np.pi, 128),\n",
    "    init_func=init, blit=True)\n",
    "\n",
    "# plt.show()"
   ]
  },
  {
   "attachments": {},
   "cell_type": "markdown",
   "metadata": {},
   "source": [
    "Observar grafico de linea animada: https://matplotlib.org/stable/gallery/animation/simple_anim.html"
   ]
  },
  {
   "cell_type": "code",
   "execution_count": 6,
   "metadata": {},
   "outputs": [
    {
     "data": {
      "image/png": "[encoded data removed]",
      "text/plain": [
       "<Figure size 640x480 with 1 Axes>"
      ]
     },
     "metadata": {},
     "output_type": "display_data"
    }
   ],
   "source": [
    "import numpy as np\n",
    "import matplotlib.pyplot as plt\n",
    "import matplotlib.animation as animation\n",
    "\n",
    "fig, ax = plt.subplots()\n",
    "\n",
    "x = np.arange(0, 2*np.pi, 0.01)\n",
    "line, = ax.plot(x, np.sin(x))\n",
    "\n",
    "\n",
    "def animate(i):\n",
    "    line.set_ydata(np.sin(x + i / 50))  # update the data.\n",
    "    return line,\n",
    "\n",
    "\n",
    "ani = animation.FuncAnimation(\n",
    "    fig, animate, interval=20, blit=True, save_count=50)\n",
    "\n",
    "# To save the animation, use e.g.\n",
    "\n",
    "# ani.save(\"movie.mp4\")\n",
    "\n",
    "# or\n",
    "\n",
    "# writer = animation.FFMpegWriter(\n",
    "#     fps=15, metadata=dict(artist='Me'), bitrate=1800)\n",
    "# ani.save(\"movie.mp4\", writer=writer)\n",
    "\n",
    "plt.show()"
   ]
  },
  {
   "cell_type": "code",
   "execution_count": null,
   "metadata": {},
   "outputs": [],
   "source": []
  },
  {
   "cell_type": "code",
   "execution_count": null,
   "metadata": {},
   "outputs": [],
   "source": []
  },
  {
   "cell_type": "code",
   "execution_count": null,
   "metadata": {},
   "outputs": [],
   "source": []
  }
 ],
 "metadata": {
  "kernelspec": {
   "display_name": "venv",
   "language": "python",
   "name": "python3"
  },
  "language_info": {
   "codemirror_mode": {
    "name": "ipython",
    "version": 3
   },
   "file_extension": ".py",
   "mimetype": "text/x-python",
   "name": "python",
   "nbconvert_exporter": "python",
   "pygments_lexer": "ipython3",
   "version": "3.10.2"
  },
  "orig_nbformat": 4,
  "vscode": {
   "interpreter": {
    "hash": "cd3d783621b94ddb5444938b62e8e552e85be8e7528c303b542e258dd0541fd9"
   }
  }
 },
 "nbformat": 4,
 "nbformat_minor": 2
}
