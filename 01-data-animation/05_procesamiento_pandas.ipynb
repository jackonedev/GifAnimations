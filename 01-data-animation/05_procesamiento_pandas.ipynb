{
 "cells": [
  {
   "cell_type": "raw",
   "metadata": {},
   "source": [
    "info sobre matplotlib.animation! \n",
    "\n",
    "matplotlib.animation es una librería muy útil para la creación de animaciones en Python utilizando Matplotlib. La función principal que se utiliza para crear animaciones es FuncAnimation. A continuación, te explicaré en detalle sus parámetros:\n",
    "\n",
    "\n",
    "matplotlib.animation.FuncAnimation(fig, func, frames=None, init_func=None, fargs=None, save_count=None, \n",
    "                                    interval=200, repeat_delay=None, repeat=True, blit=False)\n",
    "\n",
    "fig: Es la figura donde se visualizará la animación.\n",
    "func: Es la función que se llamará en cada cuadro de la animación. Esta función debe actualizar la visualización del gráfico. El primer parámetro de esta función es un número entero que representa el cuadro actual de la animación.\n",
    "frames: Es una secuencia de números enteros o un iterable que define cuántos cuadros se deben representar en la animación. Si se omite, frames se establece en range(num_frames), donde num_frames es la cantidad de cuadros de la animación. También puede ser una función que devuelva un iterador que produce cuadros de la animación.\n",
    "init_func: Es una función que se llama una vez al inicio de la animación y devuelve una lista de objetos de artista para inicializar el gráfico. Esta función es opcional y, si se omite, se utiliza una función vacía (lambda: []).\n",
    "fargs: Es una tupla de argumentos adicionales que se pasarán a la función func.\n",
    "save_count: Es el número de cuadros que se guardarán. Si se omite, se guardará toda la animación.\n",
    "interval: Es el tiempo en milisegundos entre cuadros de la animación.\n",
    "repeat_delay: Es el tiempo de retraso en milisegundos antes de que se repita la animación.\n",
    "repeat: Es un valor booleano que indica si la animación debe repetirse después de que se haya representado el último cuadro.\n",
    "blit: Es un valor booleano que indica si se debe utilizar el método blit para optimizar la animación.\n",
    "Es importante destacar que FuncAnimation devuelve un objeto animation que es necesario guardar para poder mostrar la animación. Esto se puede hacer llamando a la función HTML de IPython.display para ver la animación en un notebook o guardándola en un archivo utilizando la función save del objeto animation.\n",
    "\n",
    "Espero que esta información te haya sido útil. Si tienes más preguntas o necesitas más detalles, no dudes en preguntar.\n"
   ]
  },
  {
   "attachments": {},
   "cell_type": "markdown",
   "metadata": {},
   "source": [
    "# GENERACION DE DATOS"
   ]
  },
  {
   "cell_type": "code",
   "execution_count": 1,
   "metadata": {},
   "outputs": [],
   "source": [
    "\n",
    "import numpy as np\n",
    "import matplotlib.pyplot as plt\n",
    "from matplotlib.animation import FuncAnimation\n",
    "from collections import deque\n",
    "import pandas as pd\n",
    "\n",
    "\n",
    "umbral = 8\n",
    "\n",
    "# Crea la columna \"x\" con un rango entre -2pi y 2pi\n",
    "x = np.linspace(-2*np.pi, 2*np.pi, umbral)\n",
    "\n",
    "# Calcula los valores de las funciones seno y coseno\n",
    "seno = np.sin(x).round(2)\n",
    "data = pd.DataFrame({'seno': seno}, index=x)\n",
    "\n",
    "\n",
    "data['seno']\n",
    "data['seno'].values;\n",
    "data;"
   ]
  },
  {
   "attachments": {},
   "cell_type": "markdown",
   "metadata": {},
   "source": [
    "# PROCESAMIENTO DE DATOS\n"
   ]
  },
  {
   "cell_type": "code",
   "execution_count": 2,
   "metadata": {},
   "outputs": [],
   "source": [
    "# Elimina el último elemento de la serie y los ordena de atrás hacia adelante (el penúltimo queda primero)\n",
    "lista_invertida = list(data['seno'].values)[-2::-1]\n",
    "\n",
    "lista_invertida;"
   ]
  },
  {
   "cell_type": "code",
   "execution_count": 3,
   "metadata": {},
   "outputs": [
    {
     "data": {
      "text/plain": [
       "deque([0.0, 0.97, -0.43, -0.78, 0.78, 0.43, -0.97, -0.0], maxlen=8)"
      ]
     },
     "execution_count": 3,
     "metadata": {},
     "output_type": "execute_result"
    }
   ],
   "source": [
    "posible_umbral = len(data) # <-- default=len(data): la matriz resultante es cuadrada - posible_umbral: restringe el límtie derecho del DataFrame\n",
    "\n",
    "dy = deque(data['seno'].values, maxlen=posible_umbral)\n",
    "\n",
    "lista_frames = [dy.copy()]\n",
    "\n",
    "lista_frames[0];"
   ]
  },
  {
   "cell_type": "code",
   "execution_count": 4,
   "metadata": {},
   "outputs": [
    {
     "data": {
      "text/html": [
       "<div>\n",
       "<style scoped>\n",
       "    .dataframe tbody tr th:only-of-type {\n",
       "        vertical-align: middle;\n",
       "    }\n",
       "\n",
       "    .dataframe tbody tr th {\n",
       "        vertical-align: top;\n",
       "    }\n",
       "\n",
       "    .dataframe thead th {\n",
       "        text-align: right;\n",
       "    }\n",
       "</style>\n",
       "<table border=\"1\" class=\"dataframe\">\n",
       "  <thead>\n",
       "    <tr style=\"text-align: right;\">\n",
       "      <th></th>\n",
       "      <th>fila_1</th>\n",
       "      <th>fila_2</th>\n",
       "      <th>fila_3</th>\n",
       "      <th>fila_4</th>\n",
       "      <th>fila_5</th>\n",
       "      <th>fila_6</th>\n",
       "      <th>fila_7</th>\n",
       "      <th>fila_8</th>\n",
       "    </tr>\n",
       "  </thead>\n",
       "  <tbody>\n",
       "    <tr>\n",
       "      <th>0</th>\n",
       "      <td>0.00</td>\n",
       "      <td>0.97</td>\n",
       "      <td>-0.43</td>\n",
       "      <td>-0.78</td>\n",
       "      <td>0.78</td>\n",
       "      <td>0.43</td>\n",
       "      <td>-0.97</td>\n",
       "      <td>-0.00</td>\n",
       "    </tr>\n",
       "    <tr>\n",
       "      <th>1</th>\n",
       "      <td>0.97</td>\n",
       "      <td>-0.43</td>\n",
       "      <td>-0.78</td>\n",
       "      <td>0.78</td>\n",
       "      <td>0.43</td>\n",
       "      <td>-0.97</td>\n",
       "      <td>-0.00</td>\n",
       "      <td>0.00</td>\n",
       "    </tr>\n",
       "    <tr>\n",
       "      <th>2</th>\n",
       "      <td>-0.43</td>\n",
       "      <td>-0.78</td>\n",
       "      <td>0.78</td>\n",
       "      <td>0.43</td>\n",
       "      <td>-0.97</td>\n",
       "      <td>-0.00</td>\n",
       "      <td>0.00</td>\n",
       "      <td>0.97</td>\n",
       "    </tr>\n",
       "    <tr>\n",
       "      <th>3</th>\n",
       "      <td>-0.78</td>\n",
       "      <td>0.78</td>\n",
       "      <td>0.43</td>\n",
       "      <td>-0.97</td>\n",
       "      <td>-0.00</td>\n",
       "      <td>0.00</td>\n",
       "      <td>0.97</td>\n",
       "      <td>-0.43</td>\n",
       "    </tr>\n",
       "    <tr>\n",
       "      <th>4</th>\n",
       "      <td>0.78</td>\n",
       "      <td>0.43</td>\n",
       "      <td>-0.97</td>\n",
       "      <td>-0.00</td>\n",
       "      <td>0.00</td>\n",
       "      <td>0.97</td>\n",
       "      <td>-0.43</td>\n",
       "      <td>-0.78</td>\n",
       "    </tr>\n",
       "    <tr>\n",
       "      <th>5</th>\n",
       "      <td>0.43</td>\n",
       "      <td>-0.97</td>\n",
       "      <td>-0.00</td>\n",
       "      <td>0.00</td>\n",
       "      <td>0.97</td>\n",
       "      <td>-0.43</td>\n",
       "      <td>-0.78</td>\n",
       "      <td>0.78</td>\n",
       "    </tr>\n",
       "    <tr>\n",
       "      <th>6</th>\n",
       "      <td>-0.97</td>\n",
       "      <td>-0.00</td>\n",
       "      <td>0.00</td>\n",
       "      <td>0.97</td>\n",
       "      <td>-0.43</td>\n",
       "      <td>-0.78</td>\n",
       "      <td>0.78</td>\n",
       "      <td>0.43</td>\n",
       "    </tr>\n",
       "    <tr>\n",
       "      <th>7</th>\n",
       "      <td>-0.00</td>\n",
       "      <td>0.00</td>\n",
       "      <td>0.97</td>\n",
       "      <td>-0.43</td>\n",
       "      <td>-0.78</td>\n",
       "      <td>0.78</td>\n",
       "      <td>0.43</td>\n",
       "      <td>-0.97</td>\n",
       "    </tr>\n",
       "  </tbody>\n",
       "</table>\n",
       "</div>"
      ],
      "text/plain": [
       "   fila_1  fila_2  fila_3  fila_4  fila_5  fila_6  fila_7  fila_8\n",
       "0    0.00    0.97   -0.43   -0.78    0.78    0.43   -0.97   -0.00\n",
       "1    0.97   -0.43   -0.78    0.78    0.43   -0.97   -0.00    0.00\n",
       "2   -0.43   -0.78    0.78    0.43   -0.97   -0.00    0.00    0.97\n",
       "3   -0.78    0.78    0.43   -0.97   -0.00    0.00    0.97   -0.43\n",
       "4    0.78    0.43   -0.97   -0.00    0.00    0.97   -0.43   -0.78\n",
       "5    0.43   -0.97   -0.00    0.00    0.97   -0.43   -0.78    0.78\n",
       "6   -0.97   -0.00    0.00    0.97   -0.43   -0.78    0.78    0.43\n",
       "7   -0.00    0.00    0.97   -0.43   -0.78    0.78    0.43   -0.97"
      ]
     },
     "execution_count": 4,
     "metadata": {},
     "output_type": "execute_result"
    }
   ],
   "source": [
    "row_keys = [f'fila_{i}' for i in range(1, posible_umbral+1)]\n",
    "\n",
    "\n",
    "while len(lista_invertida) > 0:\n",
    "    dy.append(lista_invertida.pop())\n",
    "    lista_frames.append(dy.copy())\n",
    "\n",
    "df = pd.DataFrame(lista_frames, columns=row_keys)\n",
    "df"
   ]
  },
  {
   "cell_type": "raw",
   "metadata": {},
   "source": [
    "CHECKPOINT: Hemos procesado la data y obtuvimos el dataset que va a alimentar a la funcion \"FuncAnimation\"\n",
    "\n",
    "Lo que falta: \n",
    "    - Comprimir todas las filas dentro de un iterable y crear la estructura requerida por el parámetro \"frame\"\n",
    "    - Comprobar las animaciones para 1 axe y varios axies"
   ]
  },
  {
   "cell_type": "code",
   "execution_count": 5,
   "metadata": {},
   "outputs": [],
   "source": [
    "import sys"
   ]
  },
  {
   "cell_type": "code",
   "execution_count": 6,
   "metadata": {},
   "outputs": [
    {
     "name": "stdout",
     "output_type": "stream",
     "text": [
      "THE END\n"
     ]
    },
    {
     "ename": "SystemExit",
     "evalue": "0",
     "output_type": "error",
     "traceback": [
      "An exception has occurred, use %tb to see the full traceback.\n",
      "\u001b[1;31mSystemExit\u001b[0m\u001b[1;31m:\u001b[0m 0\n"
     ]
    },
    {
     "name": "stderr",
     "output_type": "stream",
     "text": [
      "c:\\Users\\aguST\\Classgap\\7_Willy\\my_project\\venv\\lib\\site-packages\\IPython\\core\\interactiveshell.py:3468: UserWarning: To exit: use 'exit', 'quit', or Ctrl-D.\n",
      "  warn(\"To exit: use 'exit', 'quit', or Ctrl-D.\", stacklevel=1)\n"
     ]
    }
   ],
   "source": [
    "print ('THE END')\n",
    "sys.exit(0)"
   ]
  },
  {
   "cell_type": "code",
   "execution_count": 2,
   "metadata": {},
   "outputs": [
    {
     "name": "stderr",
     "output_type": "stream",
     "text": [
      "C:\\Users\\aguST\\AppData\\Local\\Temp\\ipykernel_16832\\1646298301.py:34: UserWarning: You passed in an explicit save_count=300 which is being ignored in favor of frames=300.\n",
      "  ani1 = FuncAnimation(fig, animate1, frames=frames, interval=interval, save_count=save_count, cache_frame_data=cache_frame_data, repeat=repeat)\n",
      "C:\\Users\\aguST\\AppData\\Local\\Temp\\ipykernel_16832\\1646298301.py:35: UserWarning: You passed in an explicit save_count=300 which is being ignored in favor of frames=300.\n",
      "  ani2 = FuncAnimation(fig, animate2, frames=frames, interval=interval, save_count=save_count, cache_frame_data=cache_frame_data, repeat=repeat)\n"
     ]
    }
   ],
   "source": [
    "import matplotlib.pyplot as plt\n",
    "from matplotlib.animation import FuncAnimation\n",
    "import numpy as np\n",
    "\n",
    "%matplotlib qt5\n",
    "plt.ion()\n",
    "\n",
    "# Crear los datos para el gráfico\n",
    "x = np.linspace(0, 2 * np.pi, 100)\n",
    "\n",
    "\n",
    "# Crear la figura y los subgráficos\n",
    "fig, (ax1, ax2) = plt.subplots(nrows=2, ncols=1)\n",
    "\n",
    "# Definir las funciones que generarán cada cuadro de la animación para cada subgráfico\n",
    "def animate1(i):\n",
    "    ax1.clear()\n",
    "    ax1.plot(x, np.sin(x + i/10), color='blue')\n",
    "    ax1.set_title(\"Sine wave\")\n",
    "\n",
    "def animate2(i):\n",
    "    ax2.clear()\n",
    "    ax2.plot(x, np.cos(x + i/10), color='red')\n",
    "    ax2.set_title(\"Cosine wave\")\n",
    "\n",
    "# Definir los parámetros de la animación\n",
    "fps = 30  # Frames por segundo\n",
    "interval = 1000 / fps  # Milisegundos por frame\n",
    "frames = 300  # Número de frames\n",
    "save_count = frames  # Número máximo de frames a guardar en la memoria\n",
    "cache_frame_data = False  # Deshabilitar el almacenamiento en caché de los datos de los cuadros\n",
    "repeat = False  # No repetir la animación después de que se reproduzca una vez\n",
    "\n",
    "# Crear la animación para cada subgráfico\n",
    "ani1 = FuncAnimation(fig, animate1, frames=frames, interval=interval, save_count=save_count, cache_frame_data=cache_frame_data, repeat=repeat)\n",
    "ani2 = FuncAnimation(fig, animate2, frames=frames, interval=interval, save_count=save_count, cache_frame_data=cache_frame_data, repeat=repeat)\n",
    "\n",
    "plt.show()\n"
   ]
  },
  {
   "cell_type": "code",
   "execution_count": null,
   "metadata": {},
   "outputs": [],
   "source": [
    "import matplotlib.pyplot as plt\n",
    "import numpy as np\n",
    "\n",
    "# Crear los datos para el gráfico\n",
    "x = np.linspace(0, 2 * np.pi, 100)\n",
    "y1 = np.sin(x)\n",
    "y2 = np.cos(x)\n",
    "\n",
    "# Definir los parámetros de los subplots\n",
    "fig, axs = plt.subplots(nrows=2, ncols=1, figsize=(8, 6), sharex=True)\n",
    "\n",
    "# Configurar los parámetros de cada subgráfico\n",
    "axs[0].plot(x, y1, 'r', label='sin')\n",
    "axs[0].set_title('Subplot 1')\n",
    "axs[0].legend()\n",
    "\n",
    "axs[1].plot(x, y2, 'b', label='cos')\n",
    "axs[1].set_title('Subplot 2')\n",
    "axs[1].legend()\n",
    "\n",
    "plt.tight_layout()\n",
    "plt.show()\n"
   ]
  },
  {
   "cell_type": "code",
   "execution_count": 7,
   "metadata": {},
   "outputs": [],
   "source": [
    "# GOOD\n",
    "\n",
    "import matplotlib.pyplot as plt\n",
    "import numpy as np\n",
    "\n",
    "# Crear los datos para el gráfico\n",
    "x = np.linspace(0, 2 * np.pi, 100)\n",
    "y1 = np.sin(x)\n",
    "y2 = np.cos(x)\n",
    "\n",
    "# Definir los parámetros de los subplots\n",
    "fig, axs = plt.subplots(nrows=2, ncols=1, figsize=(8, 6), sharex=True)\n",
    "\n",
    "# Configurar los parámetros de cada subgráfico\n",
    "axs[0].plot(x, y1, 'r', linewidth=2, label='sin')\n",
    "axs[0].set_title('Subplot 1', fontsize=16, fontweight='bold')\n",
    "axs[0].legend(fontsize=12)\n",
    "\n",
    "axs[1].plot(x, y2, 'b', linewidth=2, label='cos')\n",
    "axs[1].set_title('Subplot 2', fontsize=16, fontweight='bold')\n",
    "axs[1].legend(fontsize=12)\n",
    "\n",
    "# Configurar los parámetros de la figura\n",
    "fig.suptitle('Gráfico de seno y coseno', fontsize=20, fontweight='bold')\n",
    "fig.subplots_adjust(top=0.9)\n",
    "\n",
    "# Configurar los parámetros de los ejes\n",
    "for ax in axs:\n",
    "    ax.tick_params(axis='both', labelsize=12)\n",
    "\n",
    "plt.tight_layout()\n",
    "plt.show()\n"
   ]
  },
  {
   "cell_type": "code",
   "execution_count": null,
   "metadata": {},
   "outputs": [],
   "source": []
  }
 ],
 "metadata": {
  "kernelspec": {
   "display_name": "venv",
   "language": "python",
   "name": "python3"
  },
  "language_info": {
   "codemirror_mode": {
    "name": "ipython",
    "version": 3
   },
   "file_extension": ".py",
   "mimetype": "text/x-python",
   "name": "python",
   "nbconvert_exporter": "python",
   "pygments_lexer": "ipython3",
   "version": "3.11.2"
  },
  "orig_nbformat": 4,
  "vscode": {
   "interpreter": {
    "hash": "cd3d783621b94ddb5444938b62e8e552e85be8e7528c303b542e258dd0541fd9"
   }
  }
 },
 "nbformat": 4,
 "nbformat_minor": 2
}
